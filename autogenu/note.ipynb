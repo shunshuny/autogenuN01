{
 "cells": [
  {
   "cell_type": "code",
   "execution_count": 53,
   "metadata": {},
   "outputs": [],
   "source": [
    "import subprocess\n",
    "import platform\n",
    "from enum import Enum, auto\n",
    "from collections import namedtuple\n",
    "import sympy\n",
    "import os\n",
    "import sys\n",
    "import math\n",
    "\n",
    "import symutils\n",
    "from install_python_interface import install_python_interface"
   ]
  },
  {
   "cell_type": "code",
   "execution_count": 54,
   "metadata": {},
   "outputs": [],
   "source": [
    "nx = 9\n",
    "nu = 6"
   ]
  },
  {
   "cell_type": "code",
   "execution_count": 55,
   "metadata": {},
   "outputs": [],
   "source": [
    "def __init__(self, nx: int, nu: int):\n",
    "    self.__nx = nx\n",
    "    self.__nu = nu\n",
    "    self.__nc = 0\n",
    "    self.__nh = 0"
   ]
  },
  {
   "cell_type": "code",
   "execution_count": 3,
   "metadata": {},
   "outputs": [
    {
     "name": "stdout",
     "output_type": "stream",
     "text": [
      "[1 2 3 1 2 3 1 2 3]\n"
     ]
    }
   ],
   "source": [
    "import numpy as np\n",
    "\n",
    "# 結合したい配列\n",
    "arr1 = np.array([1, 2, 3])\n",
    "arr2 = np.array([4, 5, 6])\n",
    "arr3 = np.array([7, 8, 9])\n",
    "\n",
    "# 配列を結合\n",
    "result = np.concatenate([arr1, arr1, arr1])\n",
    "\n",
    "print(result)"
   ]
  },
  {
   "cell_type": "code",
   "execution_count": 56,
   "metadata": {},
   "outputs": [],
   "source": [
    "def set_functions(self, f, C, h, L, phi):\n",
    "    x = sympy.symbols('x[0:%d]' %(self.__nx))\n",
    "    u = sympy.symbols('u[0:%d]' %(self.__nu+self.__nc+self.__nh))\n",
    "    lmd = sympy.symbols('lmd[0:%d]' %(self.__nx*3))\n",
    "    hamiltonian1 = L[0] + sum(lmd[i] * f[i] for i in range(self.__nx))\n",
    "    hamiltonian2 = L[1] + sum(lmd[i+self.__nx] * f[i] for i in range(self.__nx))\n",
    "    hamiltonian3 = L[2] + sum(lmd[i+self.__nx*2] * f[i] for i in range(self.__nx))\n",
    "    #hamiltonian += sum(u[self.__nu+i] * C[i] for i in range(self.__nc))\n",
    "    nuc = self.__nu + self.__nc\n",
    "    #hamiltonian += sum(u[nuc+i] * h[i] for i in range(self.__nh))\n",
    "    hx1 = symutils.diff_scalar_func(hamiltonian1, x)\n",
    "    hx2 = symutils.diff_scalar_func(hamiltonian2, x)\n",
    "    hx3 = symutils.diff_scalar_func(hamiltonian3, x)\n",
    "    hx = []\n",
    "    for i in range(self.__nx):\n",
    "        hx.append(hx1[i])\n",
    "    for i in range(self.__nx):\n",
    "        hx.append(hx2[i])\n",
    "    for i in range(self.__nx):\n",
    "        hx.append(hx3[i])\n",
    "    hx = tuple(hx)\n",
    "    number = math.floor(self.__nu/3) #math.floor(10.9)=10\n",
    "    u1 = [] ; u2 = []; u3 = []\n",
    "    for i in range(number):\n",
    "        u1.append(u[i])\n",
    "        u2.append(u[i + number])\n",
    "        u3.append(u[i + number*2])\n",
    "    u1 = tuple(u1); u2 = tuple(u2); u3 = tuple(u3)\n",
    "    hu1 = symutils.diff_scalar_func(hamiltonian1, u1)\n",
    "    hu2 = symutils.diff_scalar_func(hamiltonian2, u2)\n",
    "    hu3 = symutils.diff_scalar_func(hamiltonian3, u3)\n",
    "    hu = []\n",
    "    for i in range(number):\n",
    "        hu.append(hu1[i])\n",
    "    for i in range(number):\n",
    "        hu.append(hu2[i])\n",
    "    for i in range(number):\n",
    "        hu.append(hu3[i])\n",
    "    hu = tuple(hu)\n",
    "    fb_eps = sympy.symbols('fb_eps[0:%d]' %(self.__nh))\n",
    "    for i in range(self.__nh):\n",
    "        hu[nuc+i] = sympy.sqrt(u[nuc+i]**2 + h[i]**2 + fb_eps[i]) - (u[nuc+i] - h[i])\n",
    "    phix1 = symutils.diff_scalar_func(phi[0], x)\n",
    "    phix2 = symutils.diff_scalar_func(phi[1], x)\n",
    "    phix3 = symutils.diff_scalar_func(phi[2], x)\n",
    "    phix = []\n",
    "    for i in range(self.__nx):\n",
    "        phix.append(phix1[i])\n",
    "    for i in range(self.__nx):\n",
    "        phix.append(phix2[i])\n",
    "    for i in range(self.__nx):\n",
    "        phix.append(phix3[i])\n",
    "    phix = tuple(phix)\n",
    "    self.__symbolic_functions = SymbolicFunctions(f, phix, hx, hu)"
   ]
  },
  {
   "cell_type": "code",
   "execution_count": 57,
   "metadata": {},
   "outputs": [
    {
     "name": "stdout",
     "output_type": "stream",
     "text": [
      "9\n"
     ]
    }
   ],
   "source": [
    "print(nx)"
   ]
  },
  {
   "cell_type": "code",
   "execution_count": 2,
   "metadata": {},
   "outputs": [
    {
     "name": "stdout",
     "output_type": "stream",
     "text": [
      "NaNが発生しました。シミュレーションを停止します。\n"
     ]
    }
   ],
   "source": [
    "import numpy as np\n",
    "array = [0, 1, np.nan, 7 ]\n",
    "if np.any(np.isnan(array)):\n",
    "    print(\"NaNが発生しました。シミュレーションを停止します。\")\n"
   ]
  },
  {
   "cell_type": "code",
   "execution_count": 1,
   "metadata": {},
   "outputs": [
    {
     "name": "stdout",
     "output_type": "stream",
     "text": [
      "1.26.4\n"
     ]
    }
   ],
   "source": [
    "import numpy as np\n",
    "print(np.__version__)"
   ]
  },
  {
   "cell_type": "code",
   "execution_count": 3,
   "metadata": {},
   "outputs": [],
   "source": [
    "fo = [1,2,3]"
   ]
  },
  {
   "cell_type": "code",
   "execution_count": 7,
   "metadata": {},
   "outputs": [
    {
     "name": "stdout",
     "output_type": "stream",
     "text": [
      "[1, 2, 3, 1, 2, 3, 1, 2, 3]\n"
     ]
    }
   ],
   "source": [
    "f = []\n",
    "for i in range(3):\n",
    "    for j in range(3):\n",
    "        f.append(fo[j])\n",
    "print(f)"
   ]
  },
  {
   "cell_type": "code",
   "execution_count": 25,
   "metadata": {},
   "outputs": [
    {
     "name": "stdout",
     "output_type": "stream",
     "text": [
      "[0, 0, 0]\n",
      "[[1, 2, 3], [4, 5, 6], [7, 8]]\n",
      "[(1, 2, 3), (4, 5, 6), (7, 8)]\n",
      "(1, 2, 3, 4, 5, 6, 7, 8)\n"
     ]
    }
   ],
   "source": [
    "player = 3\n",
    "hamiltonian  = [0]*player\n",
    "print(hamiltonian)\n",
    "hamiltonian[0]= [1,2,3]\n",
    "hamiltonian[1]= [4,5,6]\n",
    "hamiltonian[2]= [7,8]\n",
    "print(hamiltonian)\n",
    "uj = [0]*3\n",
    "for i in range(3):\n",
    "    uj[i] = tuple(hamiltonian[i])\n",
    "print(uj)\n",
    "hamiltonian = tuple(i for sublist in hamiltonian for i in sublist)\n",
    "print(hamiltonian)\n"
   ]
  },
  {
   "cell_type": "code",
   "execution_count": 18,
   "metadata": {},
   "outputs": [
    {
     "name": "stdout",
     "output_type": "stream",
     "text": [
      "[[], [], []]\n",
      "[[3, 4], [], []]\n",
      "(3, 4)\n"
     ]
    }
   ],
   "source": [
    "player = 3\n",
    "u = [3,4]\n",
    "ui = []\n",
    "for i in range(3):\n",
    "    ui.append([])\n",
    "print(ui)\n",
    "for i in range(2):\n",
    "    ui[0].append(u[i])\n",
    "print(ui)\n",
    "a = tuple(ui[0])\n",
    "print(a)"
   ]
  },
  {
   "cell_type": "code",
   "execution_count": null,
   "metadata": {},
   "outputs": [],
   "source": []
  }
 ],
 "metadata": {
  "kernelspec": {
   "display_name": "Python 3",
   "language": "python",
   "name": "python3"
  },
  "language_info": {
   "codemirror_mode": {
    "name": "ipython",
    "version": 3
   },
   "file_extension": ".py",
   "mimetype": "text/x-python",
   "name": "python",
   "nbconvert_exporter": "python",
   "pygments_lexer": "ipython3",
   "version": "3.10.12"
  }
 },
 "nbformat": 4,
 "nbformat_minor": 2
}
