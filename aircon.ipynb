{
 "cells": [
  {
   "cell_type": "markdown",
   "metadata": {},
   "source": [
    "# AutoGenU for Jupyter\n",
    "\n",
    "An Automatic C++ Code Generator for Nonlinear Model Predictive Control (NMPC)  \n",
    "\n",
    "---  "
   ]
  },
  {
   "cell_type": "markdown",
   "metadata": {},
   "source": [
    "## Formulation of the optimal control problem: room temperature"
   ]
  },
  {
   "cell_type": "markdown",
   "metadata": {},
   "source": []
  },
  {
   "cell_type": "markdown",
   "metadata": {},
   "source": [
    "---\n",
    "\n",
    "# Generate C++ code for optimal control problem (OCP)"
   ]
  },
  {
   "cell_type": "markdown",
   "metadata": {},
   "source": [
    "## Import modules"
   ]
  },
  {
   "cell_type": "code",
   "execution_count": 80,
   "metadata": {},
   "outputs": [],
   "source": [
    "import autogenu"
   ]
  },
  {
   "cell_type": "markdown",
   "metadata": {},
   "source": [
    "## Set dimensions and define `AutoGenU`\n",
    "- `nx`: Dimension of the state vector $x$   \n",
    "- `nu`: Dimension of the control input vector $u$  \n",
    "- `ocp_name`: Name of the optimal control problem (OCP). Used as the name of the directory containing the generated C++ source files."
   ]
  },
  {
   "cell_type": "code",
   "execution_count": 81,
   "metadata": {},
   "outputs": [],
   "source": [
    "nxo = 4\n",
    "player = 2\n",
    "nu = 2\n",
    "ocp_name = 'room_test'\n",
    "ag = autogenu.AutoGenU(ocp_name, nxo, nu, player)"
   ]
  },
  {
   "cell_type": "markdown",
   "metadata": {},
   "source": [
    "## Generate t, x, and u, necessary variables to formulate of the optimal control problem\n",
    "- `t`: Time parameter $t$  \n",
    "- `x`: The state vector $x$  \n",
    "- `u`: The control input vector $u$  "
   ]
  },
  {
   "cell_type": "code",
   "execution_count": 82,
   "metadata": {},
   "outputs": [
    {
     "data": {
      "text/plain": [
       "[1, 1]"
      ]
     },
     "execution_count": 82,
     "metadata": {},
     "output_type": "execute_result"
    }
   ],
   "source": [
    "t = ag.define_t()\n",
    "x = ag.define_x()\n",
    "x = x[:nxo]\n",
    "u = ag.define_u()\n",
    "ulist = [1,1]\n",
    "ag.separate_u(ulist)"
   ]
  },
  {
   "cell_type": "markdown",
   "metadata": {},
   "source": [
    "## Define variables used in the state equation, constraints, and cost function\n",
    "- Define a scalar variable whose name is \"var\" as  \n",
    "`var = ag.define_scalar_var('var') `\n",
    "\n",
    "- Define scalar variables whose names are \"var\\_1\", \"var\\_2\", ..., \"var\\_n\" as  \n",
    "`var_1, var_2, ..., var_n = ag.define_scalar_vars('var_1', 'var_2', ..., 'var_n')`\n",
    "\n",
    "- Define array variables whose name is \"vec\" and dimension is dim_vec as  \n",
    "`vec = ag.define_array_var('vec', dim_vec)`"
   ]
  },
  {
   "cell_type": "code",
   "execution_count": 83,
   "metadata": {},
   "outputs": [],
   "source": [
    "import numpy as np\n",
    "# Define variables used in the state function\n",
    "x1_min, x1_max = ag.define_scalar_vars('x1_min', 'x1_max')\n",
    "x2_min, x2_max = ag.define_scalar_vars('x2_min', 'x2_max')\n",
    "\n",
    "# Variables used in the cost function\n",
    "q1 = ag.define_array_var('q1', 4)\n",
    "q2 = ag.define_array_var('q2', 4)\n",
    "Q1 = np.diag(q1)\n",
    "Q2 = np.diag(q2)\n",
    "\n",
    "r = ag.define_array_var('r', 2)"
   ]
  },
  {
   "cell_type": "markdown",
   "metadata": {},
   "source": [
    "## Define the state equation, constraints, the stage cost, and the terminal cost\n",
    "- `f`: The state equation $ f(t, x, u)$  \n",
    "- `C`: The equality constraisnts $C(t, x, u) = 0 $  \n",
    "- `h`: The inequality constraisnts $h(t, x, u) \\leq 0$ considered by semi-smooth Fischer-Burumeister method  \n",
    "- `L`: The stage cost $L(t, x, u)$  \n",
    "- `phi`: The terminal cost $\\phi (t, x)$  \n",
    "\n",
    "Note: array indices start with 0"
   ]
  },
  {
   "cell_type": "code",
   "execution_count": 84,
   "metadata": {},
   "outputs": [],
   "source": [
    "# Import symbolic math from sympy. If you need more functions, import same as below.\n",
    "from sympy import sin, cos, tan, exp, log, sinh, cosh, tanh, diff, sqrt"
   ]
  },
  {
   "cell_type": "code",
   "execution_count": 85,
   "metadata": {},
   "outputs": [],
   "source": [
    "# Define the state function\n",
    "A = np.array([[0.8511, 0 ,0.0541, 0.0707],\n",
    "     [0, 0.8511, 0.0541, 0.0707],\n",
    "     [0.1293, 0.1293, 0.8635, 0.0055],\n",
    "     [0.0989, 0.0989, 0.0032, 0.7541]])\n",
    "B1 = np.array([[0.0035], [0], [0.0003], [0.0002]])\n",
    "B2 = np.array([[0], [0.0035], [0.0003], [0.0002]])"
   ]
  },
  {
   "cell_type": "code",
   "execution_count": 86,
   "metadata": {},
   "outputs": [
    {
     "name": "stdout",
     "output_type": "stream",
     "text": [
      "[0.0035*u[0] + 0.8511*x[0] + 0.0541*x[2] + 0.0707*x[3]\n",
      " 0.0035*u[1] + 0.8511*x[1] + 0.0541*x[2] + 0.0707*x[3]\n",
      " 0.0003*u[0] + 0.0003*u[1] + 0.1293*x[0] + 0.1293*x[1] + 0.8635*x[2] + 0.0055*x[3]\n",
      " 0.0002*u[0] + 0.0002*u[1] + 0.0989*x[0] + 0.0989*x[1] + 0.0032*x[2] + 0.7541*x[3]]\n",
      "[0.0035*u[0] + 0.8511*x[0] + 0.0541*x[2] + 0.0707*x[3], 0.0035*u[1] + 0.8511*x[1] + 0.0541*x[2] + 0.0707*x[3], 0.0003*u[0] + 0.0003*u[1] + 0.1293*x[0] + 0.1293*x[1] + 0.8635*x[2] + 0.0055*x[3], 0.0002*u[0] + 0.0002*u[1] + 0.0989*x[0] + 0.0989*x[1] + 0.0032*x[2] + 0.7541*x[3]]\n"
     ]
    }
   ],
   "source": [
    "# Define the state equation\n",
    "u1 = np.array([u[0]])\n",
    "u2 = np.array([u[1]])\n",
    "fo_array = A @ x + B1 @ u1 + B2 @ u2\n",
    "print(fo_array)\n",
    "fo= list(fo_array.flatten())\n",
    "print(fo)\n",
    "\n",
    "# Define the equality constraints C(x, u) = 0\n",
    "C = []\n",
    "\n",
    "# Define the inequality constraints considered using the semi-smooth Fischer-Burmeister method\n",
    "h = []\n",
    "\n",
    "# Define the stage cost\n",
    "L = [q1[0]*x[0] + q1[1]*x[1] + q1[2]*x[2] + q1[3]*x[3] + u[0] * r[0] * u[0],\n",
    "     q2[0]*x[0] + q2[1]*x[1] + q2[2]*x[2] + q2[3]*x[3] + u[1] * r[1] * u[1]]\n",
    "\n",
    "# Define the terminal cost\n",
    "phi = [q1[0]*x[0] + q1[1]*x[1] + q1[2]*x[2] + q1[3]*x[3],\n",
    "       q2[0]*x[0] + q2[1]*x[1] + q2[2]*x[2] + q2[3]*x[3]]"
   ]
  },
  {
   "cell_type": "code",
   "execution_count": 87,
   "metadata": {},
   "outputs": [],
   "source": [
    "# Set functions\n",
    "ag.set_functions(fo, C, h, L, phi)"
   ]
  },
  {
   "cell_type": "markdown",
   "metadata": {},
   "source": [
    "## Define the control input bound constraints\n",
    "The box constraints on the control input $u_{\\rm min} \\leq u \\leq u_{\\rm max}$ are treated in a special manner.\n",
    "Specifically, it is transformed into $$u^2 + u_{\\rm dummy}^2 - (\\frac{u_{\\rm max} - u_{\\rm min}}{2})^2 = 0$$.  \n",
    "Further, $u_{\\rm dummy}$ and associated Lagrange multiplier are eliminated in Newton-type iteration efficiently in the multiple-shooting solver.  \n",
    "Set such box constraints by specifying\n",
    "- `uindex`: index of the constrained control input element\n",
    "- `umin`: Minimum value (lower bound) of the control input element\n",
    "- `umax`: Maximum value (upper bound) of the control input element\n",
    "- `dummy_weight`: Weight parameter of the dummy (slack) variable"
   ]
  },
  {
   "cell_type": "code",
   "execution_count": 88,
   "metadata": {},
   "outputs": [],
   "source": [
    "# ag.add_control_input_bounds(uindex=0, umin=0.0, umax=45.0, dummy_weight=0.1) \n",
    "# ag.add_control_input_bounds(uindex=1, umin=0.0, umax=45.0, dummy_weight=0.1) "
   ]
  },
  {
   "cell_type": "markdown",
   "metadata": {},
   "source": [
    "## Set Parameters\n",
    "Set values for all parameters you defined.\n",
    "- Set `value` for a scalar variable whose name is \"var\" as  \n",
    "`ag.set_scalar_var('var', value) `\n",
    "\n",
    "- Set `value_1`, `value_2`, ..., `value_n`, for scalar variables whose names are \"var\\_1\", \"var\\_2\", ..., \"var\\_n\" as  \n",
    "`ag.set_scalar_vars(['var_1', value_1], ['var_2', value_2], ..., ['var_n', value_n])`\n",
    "\n",
    "- Set array variables `var_1`, `var_2`, ..., `var_n` whose name is \"vec\" and dimension is n as  \n",
    "`ag.define_array_var('vec', [var_1, var_2, ..., var_n])`\n",
    "\n",
    "- If you define the inequality constraints using Fischer-Brumeister method `h`, then you have to define related regularization term additionaly. The dimension of the regularization term must be same as the dimension of `h`. If the dimension is `nh`, you need to set the regularization as `ag.set_FB_epsilon([eps_1, ..., eps_nh])`"
   ]
  },
  {
   "cell_type": "code",
   "execution_count": 89,
   "metadata": {},
   "outputs": [],
   "source": [
    "ag.set_scalar_vars(['x1_min', -0.5], ['x1_max', 0.5],\n",
    "                   ['x2_min', -0.75], ['x2_max', 0.75])\n",
    "ag.set_array_var('q1', [1.0, 10.0, 0.1, 0.1])\n",
    "ag.set_array_var('q2', [10.0, 1.0, 0.1, 0.1])\n",
    "ag.set_array_var('r', [0.01, 0.01])\n",
    "\n",
    "# ag.set_FB_epsilon([0.01, 0.01])"
   ]
  },
  {
   "cell_type": "markdown",
   "metadata": {},
   "source": [
    "## Generate C++ codes of the definition of the optimal control problem\n",
    "Generate `ocp.hpp` that defines the optimal control problem (OCP).  \n",
    "- `simplification`: The flag for simplification. If `True`, symbolic functions are simplified. However, if functions are too complicated, it takes too much time. Default is `False`.  \n",
    "- `common_subexpression_elimination`: The flag for common subexpression elimination. If `True`, common subexpressions in fxu, phix, hx, and hu are eliminated when `ocp.hpp` is generated. Default is `False`. "
   ]
  },
  {
   "cell_type": "code",
   "execution_count": 90,
   "metadata": {},
   "outputs": [
    {
     "name": "stdout",
     "output_type": "stream",
     "text": [
      "'ocp.hpp', the definition of the OCP, is generated at /root/autogenuN01/generated/room_test\n"
     ]
    }
   ],
   "source": [
    "simplification = False\n",
    "common_subexpression_elimination = True\n",
    "\n",
    "ag.generate_ocp_definition(simplification, common_subexpression_elimination)"
   ]
  },
  {
   "cell_type": "markdown",
   "metadata": {},
   "source": [
    "---  \n",
    "# Generate C++ codes of NMPC solver and numerical simulation  "
   ]
  },
  {
   "cell_type": "markdown",
   "metadata": {},
   "source": [
    "## Set NLP type  \n",
    "Set which NLP formulation you use. (hint: `MultipleShooting` works better for typical nonlinear problems.)\n",
    "- `MultipleShooting` (recommended) : The multiple shooting based C/GMRES method with condensing of the state and the Lagragne multipliers with respect to the state equation.\n",
    "- `SingleShooting` : The single shooting method, i.e., the original C/GMRES method."
   ]
  },
  {
   "cell_type": "code",
   "execution_count": 91,
   "metadata": {},
   "outputs": [],
   "source": [
    "nlp_type = autogenu.NLPType.MultipleShooting\n",
    "ag.set_nlp_type(nlp_type)"
   ]
  },
  {
   "cell_type": "markdown",
   "metadata": {},
   "source": [
    "## Set horizon length \n",
    "\n",
    "- `Tf`, `alpha`: Parameters for the length of the horizon. If $\\alpha > 0$, time-varying horizon length $T(t) = T_f (1 - e^{-\\alpha t})$ is used. Otherwise, $T(t)$ is fixed by $T_f$. "
   ]
  },
  {
   "cell_type": "code",
   "execution_count": 92,
   "metadata": {},
   "outputs": [],
   "source": [
    "Tf = 0.5\n",
    "alpha = 0.0\n",
    "\n",
    "ag.set_horizon_params(Tf, alpha)"
   ]
  },
  {
   "cell_type": "markdown",
   "metadata": {},
   "source": [
    "## Set parameters for the C/GMRES method\n",
    "\n",
    "- `sampling_time`: Sampling period.\n",
    "- `N`: The number of the discretization grids of the horzion.  \n",
    "- `finite_difference_epsilon`: Step length of a finite difference approximations of hessian-vector products in C/GMRES.   \n",
    "- `zeta`: A stabilization parameter of the C/GMRES method. Basically, must be set by the reciprocal of the sampling time.  \n",
    "- `kmax`: The maximam number of the iteration of the GMRES."
   ]
  },
  {
   "cell_type": "code",
   "execution_count": 93,
   "metadata": {
    "code_folding": []
   },
   "outputs": [],
   "source": [
    "sampling_time = 0.001\n",
    "N = 50\n",
    "finite_difference_epsilon = 1.0e-08\n",
    "zeta = 1000  \n",
    "kmax = 10\n",
    "\n",
    "ag.set_solver_params(sampling_time, N, finite_difference_epsilon, zeta, kmax)"
   ]
  },
  {
   "cell_type": "markdown",
   "metadata": {},
   "source": [
    "## Set parameters for the initialization of the solution  \n",
    "- `solution_initial_guess`: The initial guess of the solution of the optimal control problem (OCP) for initialization of the solution of NMPC.   \n",
    "- `tolerance`: The residual tolerance of the solution of the OCP for the initialization of the solution of NMPC. The Newton iteration terminates when the optimality error is less than this velue.  \n",
    "- `max_iterations`: The maxmum number of Newton iteration for the initialization of the solution of NMPC.  "
   ]
  },
  {
   "cell_type": "code",
   "execution_count": 94,
   "metadata": {},
   "outputs": [],
   "source": [
    "solution_initial_guess = [0.1, 0.1]\n",
    "tolerance  = 1.0e-06\n",
    "max_iterations = 50\n",
    "\n",
    "ag.set_initialization_params(solution_initial_guess, tolerance, max_iterations)"
   ]
  },
  {
   "cell_type": "markdown",
   "metadata": {},
   "source": [
    "## Set parameters for numerical simulation\n",
    "- `initial_time`: Initial time of the numerical simulation.  \n",
    "- `initial_state`: Initial state vector of the system.  \n",
    "- `simulation_length`: Simulation length.  "
   ]
  },
  {
   "cell_type": "code",
   "execution_count": 95,
   "metadata": {},
   "outputs": [],
   "source": [
    "initial_time = 0  \n",
    "initial_state_o = [22, 22, 22, 15]  \n",
    "simulation_length = 15\n",
    "\n",
    "ag.set_simulation_params(initial_time, initial_state_o, simulation_length) "
   ]
  },
  {
   "cell_type": "markdown",
   "metadata": {},
   "source": [
    "## Generate main.cpp and CMakeLists.txt"
   ]
  },
  {
   "cell_type": "code",
   "execution_count": 96,
   "metadata": {
    "scrolled": true
   },
   "outputs": [
    {
     "name": "stdout",
     "output_type": "stream",
     "text": [
      "'main.cpp', the closed-loop simulation code, is generated at /root/autogenuN01/generated/room_test\n",
      "CMakeLists.txt are generated at /root/autogenuN01/generated/room_test/python\n"
     ]
    }
   ],
   "source": [
    "ag.generate_main()\n",
    "ag.generate_cmake()"
   ]
  },
  {
   "cell_type": "markdown",
   "metadata": {},
   "source": [
    "## Build and run simulation\n",
    "\n",
    "- `generator`: An optional variable for Windows user to choose the generator of CMake. If 'MSYS', then 'MSYS Makefiles' is used. If 'MinGW', then 'MinGW Makefiles' is used. The default value is 'Auto' and the generator is selected automatically. If sh.exe exists in your PATH, MSYS is choosed, and otherwise MinGW is used. \n",
    "- `vectorize` : If `True`, the vectorization, i.e., `-march=native` compile option is enabled. This can improve speed while can cause numerical issue depending on the compiler.  \n",
    "- `remove_build_dir`: If `True`, the existing build directory is removed. If `False`, the build directory is not removed. Need to be set `True` if you change the generator. Default is `False`."
   ]
  },
  {
   "cell_type": "code",
   "execution_count": 97,
   "metadata": {},
   "outputs": [
    {
     "name": "stdout",
     "output_type": "stream",
     "text": [
      "Update git submodules...\n",
      "Successfully updated git submodules\n",
      "\n",
      "CMake options: -DCMAKE_BUILD_TYPE=Release -DVECTORIZE=OFF -DBUILD_MAIN=ON -DBUILD_PYTHON_INTERFACE=OFF\n",
      "\u001b[0mCMake Deprecation Warning at CMakeLists.txt:5 (cmake_minimum_required):\n",
      "  Compatibility with CMake < 3.5 will be removed from a future version of\n",
      "  CMake.\n",
      "\n",
      "  Update the VERSION argument <min> value or use a ...<max> suffix to tell\n",
      "  CMake that the project does not need compatibility with older versions.\n",
      "\n",
      "\u001b[0m\n",
      "-- Configuring done (0.4s)\n",
      "-- Generating done (0.0s)\n",
      "-- Build files have been written to: /root/autogenuN01/generated/room_test/build\n",
      "\n",
      "\n",
      "[ 50%] \u001b[32mBuilding CXX object CMakeFiles/room_test.dir/main.cpp.o\u001b[0m\n",
      "[100%] \u001b[32m\u001b[1mLinking CXX executable room_test\u001b[0m\n",
      "[100%] Built target room_test\n",
      "\n",
      "\n",
      "Start a simulation...\n",
      "End the simulation\n",
      "\n",
      "MPC used in this simulation:\n",
      "Multiple shooting CGMRES solver:\n",
      "  N:    50\n",
      "  kmax: 10\n",
      "\n",
      "OCP_room_test:\n",
      "  nx:  8\n",
      "  nu:  2\n",
      "  nc:  0\n",
      "  nh:  0\n",
      "  nuc: 2\n",
      "  nub: 0\n",
      "\n",
      "  x1_min: -0.5\n",
      "  x1_max: 0.5\n",
      "  x2_min: -0.75\n",
      "  x2_max: 0.75\n",
      "\n",
      "  q1: [  1,  10, 0.1, 0.1]\n",
      "  q2: [ 10,   1, 0.1, 0.1]\n",
      "  r: [0.01, 0.01]\n",
      "\n",
      "Horizon: fixed length\n",
      "  Tf:    0.5\n",
      "  alpha: 0\n",
      "  t0:    0\n",
      "\n",
      "Soler settings:\n",
      "  max iter:                  50\n",
      "  opterr tol:                1e-06\n",
      "  finite difference epsilon: 1e-08\n",
      "  sampling_time:             0.001\n",
      "  zeta:                      1000\n",
      "  min dummy:                 0.001\n",
      "  verbose level:             0\n",
      "  profile solver:            true\n",
      "\n",
      "TimingProfile:\n",
      "  average time: 0.0261 [ms]\n",
      "  max time:     1.55364 [ms]\n",
      "  counts:       15000\n",
      "\n",
      "\n",
      "The log files are generated at  /root/autogenuN01/generated/room_test/log\n"
     ]
    }
   ],
   "source": [
    "generator = 'Auto'  \n",
    "vectorize = False\n",
    "remove_build_dir = False\n",
    "ag.git_submodule_update()\n",
    "ag.build_main(generator=generator, vectorize=vectorize, remove_build_dir=remove_build_dir)\n",
    "ag.run_simulation()"
   ]
  },
  {
   "cell_type": "markdown",
   "metadata": {},
   "source": [
    "## Plot the simulation results"
   ]
  },
  {
   "cell_type": "code",
   "execution_count": 98,
   "metadata": {},
   "outputs": [],
   "source": [
    "%matplotlib inline"
   ]
  },
  {
   "cell_type": "code",
   "execution_count": 99,
   "metadata": {},
   "outputs": [
    {
     "name": "stderr",
     "output_type": "stream",
     "text": [
      "'created' timestamp seems very low; regarding as unix timestamp\n",
      "'modified' timestamp seems very low; regarding as unix timestamp\n",
      "'created' timestamp seems very low; regarding as unix timestamp\n",
      "'modified' timestamp seems very low; regarding as unix timestamp\n",
      "'created' timestamp seems very low; regarding as unix timestamp\n",
      "'modified' timestamp seems very low; regarding as unix timestamp\n"
     ]
    },
    {
     "name": "stdout",
     "output_type": "stream",
     "text": [
      "The graph of the simlation results is generated at /root/autogenuN01/generated/room_test/log/room_test.pdf\n"
     ]
    },
    {
     "data": {
      "image/png": "[encoded data removed]",
      "text/plain": [
       "<Figure size 1000x800 with 7 Axes>"
      ]
     },
     "metadata": {},
     "output_type": "display_data"
    }
   ],
   "source": [
    "plotter = autogenu.Plotter(log_dir=ag.get_ocp_log_dir(), log_name=ag.get_ocp_name(), player = player)\n",
    "plotter.set_scales(2,5,2)\n",
    "# plotter.show()\n",
    "plotter.save()"
   ]
  },
  {
   "cell_type": "markdown",
   "metadata": {},
   "source": [
    "## Draw animations of the simulation results"
   ]
  },
  {
   "cell_type": "code",
   "execution_count": 100,
   "metadata": {},
   "outputs": [],
   "source": [
    "# vx_ref = 0.4\n",
    "# X1, Y1, R1 = 1, 0.25, 0.5\n",
    "# X2, Y2, R2 = 2, -0.25, 0.5\n",
    "\n",
    "# anim = autogenu.MobileRobot(ag.get_ocp_log_dir(), ag.get_ocp_name(), vx_ref, X1, Y1, R1, X2, Y2, R2)\n",
    "# anim.set_skip_frames(10)\n",
    "# anim.generate_animation()"
   ]
  },
  {
   "cell_type": "markdown",
   "metadata": {},
   "source": [
    "## Build Python interface\n",
    "\n",
    "- `generator`: An optional variable for Windows user to choose the generator of CMake. If 'MSYS', then 'MSYS Makefiles' is used. If 'MinGW', then 'MinGW Makefiles' is used. The default value is 'Auto' and the generator is selected automatically. If sh.exe exists in your PATH, MSYS is choosed, and otherwise MinGW is used. \n",
    "- `vectorize` : If `True`, the vectorization, i.e., `-march=native` compile option is enabled. This can improve speed while can cause numerical issue depending on the compiler.  \n",
    "- `remove_build_dir`: If `True`, the existing build directory is removed. If `False`, the build directory is not removed. Need to be set `True` if you change the generator. Default is `False`."
   ]
  },
  {
   "cell_type": "code",
   "execution_count": 101,
   "metadata": {},
   "outputs": [],
   "source": [
    "# generator = 'Auto'  \n",
    "# vectorize = False\n",
    "# remove_build_dir = False\n",
    "# ag.generate_python_bindings()\n",
    "# ag.git_submodule_update()\n",
    "# ag.build_python_interface(generator=generator, vectorize=vectorize, remove_build_dir=remove_build_dir)"
   ]
  },
  {
   "cell_type": "markdown",
   "metadata": {},
   "source": [
    "## Install Python interface\n",
    "\n",
    "- `install_prefix` : Prefix of the install destination of the python interfaces. Default is None.\n",
    "    -  If this is None (default), then it is `~/.local/lib/python3.x` (`python3.x` is your Python version). \n",
    "        - If you use Ubuntu, `~/.local/lib/python3.x` is the default Python path, and you do not need to set `PYTHONPATH` additonally.  \n",
    "        - If you use MacOSX or Windows, add it to the Python PATH, as `export PYTHONPATH=$PYTHONPATH:$HOME/.local/lib/python3.x/site-packages`\n",
    "\n",
    "The usage of Python interfaces is introduced in `examples/python` directory."
   ]
  },
  {
   "cell_type": "code",
   "execution_count": 102,
   "metadata": {},
   "outputs": [],
   "source": [
    "# ag.install_python_interface(install_prefix=None)"
   ]
  },
  {
   "cell_type": "markdown",
   "metadata": {},
   "source": [
    "## Generate Documentation\n",
    "The documentations for the generated code are available.  \n",
    "`Doxygen` is required for the docs generation."
   ]
  },
  {
   "cell_type": "code",
   "execution_count": 103,
   "metadata": {},
   "outputs": [],
   "source": [
    "# autogenu.generate_docs()\n",
    "# autogenu.open_docs("
   ]
  }
 ],
 "metadata": {
  "kernelspec": {
   "display_name": "Python 3",
   "language": "python",
   "name": "python3"
  },
  "language_info": {
   "codemirror_mode": {
    "name": "ipython",
    "version": 3
   },
   "file_extension": ".py",
   "mimetype": "text/x-python",
   "name": "python",
   "nbconvert_exporter": "python",
   "pygments_lexer": "ipython3",
   "version": "3.10.12"
  },
  "toc": {
   "base_numbering": 1,
   "nav_menu": {},
   "number_sections": true,
   "sideBar": true,
   "skip_h1_title": false,
   "title_cell": "Table of Contents",
   "title_sidebar": "Contents",
   "toc_cell": false,
   "toc_position": {},
   "toc_section_display": true,
   "toc_window_display": false
  },
  "vscode": {
   "interpreter": {
    "hash": "916dbcbb3f70747c44a77c7bcd40155683ae19c65e1c03b4aa3499c5328201f1"
   }
  }
 },
 "nbformat": 4,
 "nbformat_minor": 4
}
