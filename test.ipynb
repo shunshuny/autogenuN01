{
 "cells": [
  {
   "cell_type": "code",
   "execution_count": 6,
   "id": "cfeec71f",
   "metadata": {},
   "outputs": [
    {
     "name": "stdout",
     "output_type": "stream",
     "text": [
      "[1.00710294 0.65248634 0.8511     0.80911072]\n",
      "4 4\n"
     ]
    }
   ],
   "source": [
    "import numpy as np\n",
    "A = np.array([[0.8511, 0 ,0.0541, 0.0707],\n",
    "     [0, 0.8511, 0.0541, 0.0707],\n",
    "     [0.1293, 0.1293, 0.8635, 0.0055],\n",
    "     [0.0989, 0.0989, 0.0032, 0.7541]])\n",
    "eig_val, eig_vec =np.linalg.eig(A)\n",
    "print(eig_val)\n",
    "\n",
    "B1 = np.array([[0.0035], [0], [0.0003], [0.0002]])\n",
    "B2 = np.array([[0], [0.0035], [0.0003], [0.0002]])\n",
    "\n",
    "AB1_list = [B1, A@B1, A@A@B1, A@A@A@B1]\n",
    "AB2_list = [B2, A@B2, A@A@B2, A@A@A@B2]\n",
    "# hstackを使ってベクトルを水平に連結し、4x4の行列を作成\n",
    "Ct1 = np.hstack(AB1_list)\n",
    "Ct2 = np.hstack(AB2_list)\n",
    "rank1 = np.linalg.matrix_rank(Ct1)\n",
    "rank2 = np.linalg.matrix_rank(Ct2)\n",
    "print(rank1, rank2)"
   ]
  },
  {
   "cell_type": "code",
   "execution_count": 2,
   "id": "6f18415a",
   "metadata": {},
   "outputs": [
    {
     "name": "stdout",
     "output_type": "stream",
     "text": [
      "[0.96030504 0.6956025  0.81279246]\n"
     ]
    }
   ],
   "source": [
    "import numpy as np\n",
    "A = np.array([[0.8511,0.0541, 0.0707],\n",
    "              [0.1293, 0.8635, 0.0055],\n",
    "              [0.0989, 0.0032, 0.7541]])\n",
    "eig_val, eig_vec =np.linalg.eig(A)\n",
    "print(eig_val)"
   ]
  },
  {
   "cell_type": "code",
   "execution_count": null,
   "id": "1eecf247",
   "metadata": {},
   "outputs": [],
   "source": []
  }
 ],
 "metadata": {
  "kernelspec": {
   "display_name": "Python 3",
   "language": "python",
   "name": "python3"
  },
  "language_info": {
   "codemirror_mode": {
    "name": "ipython",
    "version": 3
   },
   "file_extension": ".py",
   "mimetype": "text/x-python",
   "name": "python",
   "nbconvert_exporter": "python",
   "pygments_lexer": "ipython3",
   "version": "3.10.12"
  }
 },
 "nbformat": 4,
 "nbformat_minor": 5
}
