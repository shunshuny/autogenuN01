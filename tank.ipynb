{
 "cells": [
  {
   "cell_type": "markdown",
   "metadata": {},
   "source": [
    "# AutoGenU for Jupyter\n",
    "\n",
    "An Automatic C++ Code Generator for Nonlinear Model Predictive Control (NMPC)  \n",
    "\n",
    "---  "
   ]
  },
  {
   "cell_type": "markdown",
   "metadata": {},
   "source": [
    "##  (My memo)\n",
    "・autogenuNのテスト\n",
    "\n",
    "・東さんのタンクシステム．\n"
   ]
  },
  {
   "cell_type": "markdown",
   "metadata": {},
   "source": [
    "---\n",
    "\n",
    "# Generate C++ code for optimal control problem (OCP)"
   ]
  },
  {
   "cell_type": "markdown",
   "metadata": {},
   "source": [
    "## Import module"
   ]
  },
  {
   "cell_type": "code",
   "execution_count": 705,
   "metadata": {},
   "outputs": [],
   "source": [
    "import autogenu"
   ]
  },
  {
   "cell_type": "markdown",
   "metadata": {},
   "source": [
    "## Set dimensions and define `AutoGenU`\n",
    "- `nx`: Dimension of the state vector $x$   \n",
    "- `nu`: Dimension of the control input vector $u$  \n",
    "- `ocp_name`: Name of the optimal control problem (OCP). Used as the name of the directory containing the generated C++ source files."
   ]
  },
  {
   "cell_type": "code",
   "execution_count": 706,
   "metadata": {},
   "outputs": [],
   "source": [
    "nxo = 3\n",
    "player = 3\n",
    "nu = 4\n",
    "ocp_name = 'tank'\n",
    "ag = autogenu.AutoGenU(ocp_name, nxo, nu, player)"
   ]
  },
  {
   "cell_type": "markdown",
   "metadata": {},
   "source": [
    "## Generate t, x, and u, necessary variables to formulate of the optimal control problem\n",
    "- `t`: Time parameter $t$  \n",
    "- `x`: The state vector $x$  \n",
    "- `u`: The control input vector $u$  "
   ]
  },
  {
   "cell_type": "code",
   "execution_count": 707,
   "metadata": {},
   "outputs": [],
   "source": [
    "t = ag.define_t()\n",
    "x = ag.define_x()\n",
    "u = ag.define_u()"
   ]
  },
  {
   "cell_type": "markdown",
   "metadata": {},
   "source": [
    "## Separate u into each player\n",
    "\n",
    "- How many imput does $i$ th player have? \n",
    "- The length of ulist must be equal to $player$\n",
    "- The sum of number in ulist must be equal to $nu$\n"
   ]
  },
  {
   "cell_type": "code",
   "execution_count": 708,
   "metadata": {},
   "outputs": [
    {
     "data": {
      "text/plain": [
       "[2, 1, 1]"
      ]
     },
     "execution_count": 708,
     "metadata": {},
     "output_type": "execute_result"
    }
   ],
   "source": [
    "ulist = [2, 1, 1]\n",
    "ag.separate_u(ulist)"
   ]
  },
  {
   "cell_type": "markdown",
   "metadata": {},
   "source": [
    "## Define variables used in the state equation, constraints, and cost function\n",
    "- Define a scalar variable whose name is \"var\" as  \n",
    "`var = ag.define_scalar_var('var') `\n",
    "\n",
    "- Define scalar variables whose names are \"var\\_1\", \"var\\_2\", ..., \"var\\_n\" as  \n",
    "`var_1, var_2, ..., var_n = ag.define_scalar_vars('var_1', 'var_2', ..., 'var_n')`\n",
    "\n",
    "- Define array variables whose name is \"vec\" and dimension is dim_vec as  \n",
    "`vec = ag.define_array_var('vec', dim_vec)`"
   ]
  },
  {
   "cell_type": "code",
   "execution_count": 709,
   "metadata": {},
   "outputs": [],
   "source": [
    "# Variables used in the state function\n",
    "\n",
    "# Variables used in the constraints on the control input\n",
    "\n",
    "# Variables used in the cost function\n",
    "q1, q2, q3 = ag.define_scalar_vars('q1','q2' ,'q3')\n",
    "Q1, Q2, Q3 = ag.define_scalar_vars('Q1','Q2' ,'Q3')\n",
    "r1, r2, r3, r0, r4= ag.define_scalar_vars('r1','r2' ,'r3' ,'r0', 'r4')\n",
    "sf1, sf2, sf3 = ag.define_scalar_vars('sf1','sf2','sf3')\n",
    "\n",
    "S1, S2, S3 = ag.define_scalar_vars('S1', 'S2', 'S3')\n",
    "g, a, b = ag.define_scalar_vars('g' ,'a' , 'b')\n"
   ]
  },
  {
   "cell_type": "markdown",
   "metadata": {},
   "source": [
    "## Define the state equation, constraints, the stage cost, and the terminal cost\n",
    "- `f`: The state equation $ f(t, x, u)$  \n",
    "- `C`: The equality constraisnts $C(t, x, u) = 0 $  \n",
    "- `h`: The inequality constraisnts $h(t, x, u) \\leq 0$ considered by semi-smooth Fischer-Burumeister method  \n",
    "- `L`: The stage cost $L(t, x, u)$  \n",
    "- `phi`: The terminal cost $\\phi (t, x)$  \n",
    "\n",
    "Note: array indices start with 0"
   ]
  },
  {
   "cell_type": "code",
   "execution_count": 710,
   "metadata": {},
   "outputs": [],
   "source": [
    "# Import symbolic math from sympy. If you need more functions, import same as below.\n",
    "from sympy import sin, cos, tan, exp, log, sinh, cosh, tanh, diff, sqrt"
   ]
  },
  {
   "cell_type": "code",
   "execution_count": 711,
   "metadata": {},
   "outputs": [],
   "source": [
    "# Define the state equation\n",
    "fo = [(u[0] - u[1]*tanh(a*(x[0]-x[1]))*sqrt(2*g*(x[0]-x[1])*tanh(b*(x[0]-x[1]))) - u[3]*tanh(a*(x[0]-x[2]))*sqrt(2*g*(x[0]-x[2])*tanh(b*(x[0]-x[2])))-q1)/S1,\n",
    "      (- u[1]*tanh(a*(x[1]-x[0]))*sqrt(2*g*(x[1]-x[0])*tanh(b*(x[1]-x[0]))) - u[2]*tanh(a*(x[1]-x[2]))*sqrt(2*g*(x[1]-x[2])*tanh(b*(x[1]-x[2])))-q2)/S2,\n",
    "      (- u[3]*tanh(a*(x[2]-x[0]))*sqrt(2*g*(x[2]-x[0])*tanh(b*(x[2]-x[0]))) - u[2]*tanh(a*(x[2]-x[1]))*sqrt(2*g*(x[2]-x[1])*tanh(b*(x[2]-x[1])))-q3)/S3]\n",
    "\n",
    "\n",
    "# Define the constraints\n",
    "C = []\n",
    "\n",
    "# Define the inequality constraints considered using the semi-smooth Fischer-Burmeister method\n",
    "h = [4.5 - x[0]]\n",
    "\n",
    "xref1 = 4 ; xref2 = 2 ; xref3 = 3 \n",
    "\n",
    "# Define the stage cost\n",
    "L1 = Q1*(x[0]-xref1)**2 + r4*(u[0]-(q1+q2+q3))**2 #- r1*log(u[1]*(1-u[1])) + r0/(u[0]**2)\n",
    "L2 = Q2*(x[1]-xref2)**2 # - r2*log(u[2]*(1-u[2]))\n",
    "L3 = Q3*(x[2]-xref3)**2 # - r3*log(u[3]*(1-u[3])) \n",
    "\n",
    "L = [L1, L2, L3]\n",
    "# Define the terminal cost\n",
    "phi1 = sf1*(x[0]-xref1)**2\n",
    "phi2 = sf2*(x[1]-xref2)**2\n",
    "phi3 = sf3*(x[2]-xref3)**2\n",
    "\n",
    "phi = [phi1, phi2, phi3]"
   ]
  },
  {
   "cell_type": "code",
   "execution_count": 712,
   "metadata": {},
   "outputs": [],
   "source": [
    "# Set functions\n",
    "ag.set_functions(fo, C, h, L, phi)"
   ]
  },
  {
   "cell_type": "markdown",
   "metadata": {},
   "source": [
    "## Define the control input bound constraints\n",
    "The box constraints on the control input $u_{\\rm min} \\leq u \\leq u_{\\rm max}$ are treated in a special manner.\n",
    "Specifically, it is transformed into $$u^2 + u_{\\rm dummy}^2 - (\\frac{u_{\\rm max} - u_{\\rm min}}{2})^2 = 0$$.  \n",
    "Further, $u_{\\rm dummy}$ and associated Lagrange multiplier are eliminated in Newton-type iteration efficiently in the multiple-shooting solver.  \n",
    "Set such box constraints by specifying\n",
    "- `uindex`: index of the constrained control input element\n",
    "- `umin`: Minimum value (lower bound) of the control input element\n",
    "- `umax`: Maximum value (upper bound) of the control input element\n",
    "- `dummy_weight`: Weight parameter of the dummy (slack) variable"
   ]
  },
  {
   "cell_type": "code",
   "execution_count": 713,
   "metadata": {},
   "outputs": [],
   "source": [
    "ag.add_control_input_bounds(uindex=1, umin=0.0, umax=1, dummy_weight=0.1)\n",
    "ag.add_control_input_bounds(uindex=2, umin=0.0, umax=1, dummy_weight=0.1)\n",
    "ag.add_control_input_bounds(uindex=3, umin=0.0, umax=1, dummy_weight=0.1)"
   ]
  },
  {
   "cell_type": "markdown",
   "metadata": {},
   "source": [
    "## Set Parameters\n",
    "Set values for all parameters you defined.\n",
    "- Set `value` for a scalar variable whose name is \"var\" as  \n",
    "`ag.set_scalar_var('var', value) `\n",
    "\n",
    "- Set `value_1`, `value_2`, ..., `value_n`, for scalar variables whose names are \"var\\_1\", \"var\\_2\", ..., \"var\\_n\" as  \n",
    "`ag.set_scalar_vars(['var_1', value_1], ['var_2', value_2], ..., ['var_n', value_n])`\n",
    "\n",
    "- Set array variables `var_1`, `var_2`, ..., `var_n` whose name is \"vec\" and dimension is n as  \n",
    "`ag.define_array_var('vec', [var_1, var_2, ..., var_n])`"
   ]
  },
  {
   "cell_type": "code",
   "execution_count": 714,
   "metadata": {},
   "outputs": [],
   "source": [
    "ag.set_scalar_vars(['Q1', 0],['Q2', 100] ,['Q3', 10])\n",
    "ag.set_scalar_vars(['r1', 0.2],['r2', 0.2] ,['r3', 0.2] ,['r0', 1], ['r4', 1])\n",
    "ag.set_scalar_vars(['sf1', 5],['sf2', 5] ,['sf3', 5])\n",
    "\n",
    "ag.set_scalar_vars(['q1', 0.5],['q2', 2.5] ,['q3', 0.5])\n",
    "ag.set_scalar_vars(['g', 9.78],['a', 0.5] ,['b', 0.2])\n",
    "ag.set_scalar_vars(['S1', 25],['S2', 25] ,['S3', 25])\n",
    "\n",
    "#ag.set_array_var('q_terminal', [])\n",
    "#ag.set_array_var('x_ref', [])\n",
    "\n",
    "ag.set_FB_epsilon([0.01])"
   ]
  },
  {
   "cell_type": "markdown",
   "metadata": {},
   "source": [
    "## Generate C++ codes of the definition of the optimal control problem\n",
    "Generate `ocp.hpp` that defines the optimal control problem (OCP).  \n",
    "- `simplification`: The flag for simplification. If `True`, symbolic functions are simplified. However, if functions are too complicated, it takes too much time. Default is `False`.  \n",
    "- `common_subexpression_elimination`: The flag for common subexpression elimination. If `True`, common subexpressions in fxu, phix, hx, and hu are eliminated when `ocp.hpp` is generated. Default is `False`. "
   ]
  },
  {
   "cell_type": "code",
   "execution_count": 715,
   "metadata": {},
   "outputs": [
    {
     "name": "stdout",
     "output_type": "stream",
     "text": [
      "'ocp.hpp', the definition of the OCP, is generated at /root/autogenuN01/generated/tank\n"
     ]
    }
   ],
   "source": [
    "simplification = False\n",
    "common_subexpression_elimination = True\n",
    "\n",
    "ag.generate_ocp_definition(simplification, common_subexpression_elimination)"
   ]
  },
  {
   "cell_type": "markdown",
   "metadata": {},
   "source": [
    "---  \n",
    "# Generate C++ codes of NMPC solver and numerical simulation  "
   ]
  },
  {
   "cell_type": "markdown",
   "metadata": {},
   "source": [
    "## Set NLP type  \n",
    "Set which NLP formulation you use. (hint: `MultipleShooting` works better for typical nonlinear problems.)\n",
    "- `MultipleShooting` (recommended) : The multiple shooting based C/GMRES method with condensing of the state and the Lagragne multipliers with respect to the state equation.\n",
    "- `SingleShooting` : The single shooting method, i.e., the original C/GMRES method."
   ]
  },
  {
   "cell_type": "code",
   "execution_count": 716,
   "metadata": {
    "scrolled": true
   },
   "outputs": [],
   "source": [
    "nlp_type = autogenu.NLPType.SingleShooting\n",
    "ag.set_nlp_type(nlp_type)"
   ]
  },
  {
   "cell_type": "markdown",
   "metadata": {},
   "source": [
    "## Set horizon length \n",
    "\n",
    "- `Tf`, `alpha`: Parameters for the length of the horizon. If $\\alpha > 0$, time-varying horizon length $T(t) = T_f (1 - e^{-\\alpha t})$ is used. Otherwise, $T(t)$ is fixed by $T_f$. "
   ]
  },
  {
   "cell_type": "code",
   "execution_count": 717,
   "metadata": {},
   "outputs": [],
   "source": [
    "Tf = 1.0\n",
    "alpha = 0.5\n",
    "\n",
    "ag.set_horizon_params(Tf, alpha)"
   ]
  },
  {
   "cell_type": "markdown",
   "metadata": {},
   "source": [
    "## Set parameters for the C/GMRES method\n",
    "\n",
    "- `sampling_time`: Sampling period.\n",
    "- `N`: The number of the discretization grids of the horzion.  \n",
    "- `finite_difference_epsilon`: Step length of a finite difference approximations of hessian-vector products in C/GMRES.   \n",
    "- `zeta`: A stabilization parameter of the C/GMRES method. Basically, must be set by the reciprocal of the sampling time.  \n",
    "- `kmax`: The maximam number of the iteration of the GMRES."
   ]
  },
  {
   "cell_type": "code",
   "execution_count": 718,
   "metadata": {
    "code_folding": []
   },
   "outputs": [],
   "source": [
    "sampling_time = 0.01\n",
    "N = 10\n",
    "finite_difference_epsilon = 1.0e-8\n",
    "zeta = 100\n",
    "kmax = 10\n",
    "\n",
    "ag.set_solver_params(sampling_time, N, finite_difference_epsilon, zeta, kmax)"
   ]
  },
  {
   "cell_type": "markdown",
   "metadata": {},
   "source": [
    "## Set parameters for the initialization of the solution  \n",
    "- `solution_initial_guess`: The initial guess of the solution of the optimal control problem (OCP) for initialization of the solution of NMPC.   \n",
    "- `tolerance`: The residual tolerance of the solution of the OCP for the initialization of the solution of NMPC. The Newton iteration terminates when the optimality error is less than this velue.  \n",
    "- `max_iterations`: The maxmum number of Newton iteration for the initialization of the solution of NMPC.  "
   ]
  },
  {
   "cell_type": "code",
   "execution_count": 719,
   "metadata": {},
   "outputs": [],
   "source": [
    "solution_initial_guess = [0.0, 0.5, 0.5, 0.5, 0.01]\n",
    "tolerance = 1.0e-06\n",
    "max_iterations = 0\n",
    "\n",
    "ag.set_initialization_params(solution_initial_guess, tolerance, max_iterations)"
   ]
  },
  {
   "cell_type": "markdown",
   "metadata": {},
   "source": [
    "## Set parameters for numerical simulation\n",
    "- `initial_time`: Initial time of the numerical simulation.  \n",
    "- `initial_state`: Initial state vector of the system.  \n",
    "- `simulation_length`: Simulation length.  "
   ]
  },
  {
   "cell_type": "code",
   "execution_count": 720,
   "metadata": {},
   "outputs": [],
   "source": [
    "initial_time = 0\n",
    "initial_state_o = [5.0, 3.0, 4.0]  \n",
    "simulation_length = 1000\n",
    "\n",
    "ag.set_simulation_params(initial_time, initial_state_o, simulation_length) "
   ]
  },
  {
   "cell_type": "markdown",
   "metadata": {},
   "source": [
    "## Generate main.cpp and CMakeLists.txt"
   ]
  },
  {
   "cell_type": "code",
   "execution_count": 721,
   "metadata": {
    "scrolled": true
   },
   "outputs": [
    {
     "name": "stdout",
     "output_type": "stream",
     "text": [
      "'main.cpp', the closed-loop simulation code, is generated at /root/autogenuN01/generated/tank\n",
      "CMakeLists.txt are generated at /root/autogenuN01/generated/tank/python\n"
     ]
    }
   ],
   "source": [
    "ag.generate_main()\n",
    "ag.generate_cmake()"
   ]
  },
  {
   "cell_type": "markdown",
   "metadata": {},
   "source": [
    "## Build and run simulation\n",
    "\n",
    "- `generator`: An optional variable for Windows user to choose the generator of CMake. If 'MSYS', then 'MSYS Makefiles' is used. If 'MinGW', then 'MinGW Makefiles' is used. The default value is 'Auto' and the generator is selected automatically. If sh.exe exists in your PATH, MSYS is choosed, and otherwise MinGW is used. \n",
    "- `vectorize` : If `True`, the vectorization, i.e., `-march=native` compile option is enabled. This can improve speed while can cause numerical issue depending on the compiler.  \n",
    "- `remove_build_dir`: If `True`, the existing build directory is removed. If `False`, the build directory is not removed. Need to be set `True` if you change the generator. Default is `False`."
   ]
  },
  {
   "cell_type": "code",
   "execution_count": 722,
   "metadata": {},
   "outputs": [
    {
     "name": "stdout",
     "output_type": "stream",
     "text": [
      "Update git submodules...\n",
      "Successfully updated git submodules\n",
      "\n",
      "CMake options: -DCMAKE_BUILD_TYPE=Release -DVECTORIZE=OFF -DBUILD_MAIN=ON -DBUILD_PYTHON_INTERFACE=OFF\n",
      "\u001b[0mCMake Deprecation Warning at CMakeLists.txt:5 (cmake_minimum_required):\n",
      "  Compatibility with CMake < 3.5 will be removed from a future version of\n",
      "  CMake.\n",
      "\n",
      "  Update the VERSION argument <min> value or use a ...<max> suffix to tell\n",
      "  CMake that the project does not need compatibility with older versions.\n",
      "\n",
      "\u001b[0m\n",
      "-- Configuring done (0.4s)\n",
      "-- Generating done (0.0s)\n",
      "-- Build files have been written to: /root/autogenuN01/generated/tank/build\n",
      "\n",
      "\n",
      "[ 50%] \u001b[32mBuilding CXX object CMakeFiles/tank.dir/main.cpp.o\u001b[0m\n",
      "[100%] \u001b[32m\u001b[1mLinking CXX executable tank\u001b[0m\n",
      "[100%] Built target tank\n",
      "\n",
      "\n",
      "Start a simulation...\n",
      "End the simulation\n",
      "\n",
      "MPC used in this simulation:\n",
      "Single shooting CGMRES solver:\n",
      "  N:    10\n",
      "  kmax: 10\n",
      "OCP_tank:\n",
      "  nx:  9\n",
      "  nu:  4\n",
      "  nc:  1\n",
      "  nh:  1\n",
      "  nuc: 5\n",
      "  nub: 3\n",
      "\n",
      "  q1: 0.5\n",
      "  q2: 2.5\n",
      "  q3: 0.5\n",
      "  Q1: 0\n",
      "  Q2: 100\n",
      "  Q3: 10\n",
      "  r1: 0.2\n",
      "  r2: 0.2\n",
      "  r3: 0.2\n",
      "  r0: 1\n",
      "  r4: 1\n",
      "  sf1: 5\n",
      "  sf2: 5\n",
      "  sf3: 5\n",
      "  S1: 25\n",
      "  S2: 25\n",
      "  S3: 25\n",
      "  g: 9.78\n",
      "  a: 0.5\n",
      "  b: 0.2\n",
      "\n",
      "\n",
      "  ubound_indices: [1, 2, 3]\n",
      "  umin: [0, 0, 0]\n",
      "  umax: [1, 1, 1]\n",
      "  dummy_weight: [0.1, 0.1, 0.1]\n",
      "\n",
      "  fb_eps: [0.01]\n",
      "\n",
      "Horizon: time-varying length\n",
      "  Tf:    1\n",
      "  alpha: 0.5\n",
      "  t0:    0\n",
      "\n",
      "Soler settings:\n",
      "  max iter:                  0\n",
      "  opterr tol:                1e-06\n",
      "  finite difference epsilon: 1e-08\n",
      "  sampling_time:             0.01\n",
      "  zeta:                      100\n",
      "  min dummy:                 0.001\n",
      "  verbose level:             0\n",
      "  profile solver:            true\n",
      "\n",
      "TimingProfile:\n",
      "  average time: 0.0666452 [ms]\n",
      "  max time:     4.34079 [ms]\n",
      "  counts:       100000\n",
      "\n",
      "\n",
      "The log files are generated at  /root/autogenuN01/generated/tank/log\n"
     ]
    }
   ],
   "source": [
    "generator = 'Auto'  \n",
    "vectorize = False\n",
    "remove_build_dir = False\n",
    "ag.git_submodule_update()\n",
    "ag.build_main(generator=generator, vectorize=vectorize, remove_build_dir=remove_build_dir)\n",
    "ag.run_simulation()"
   ]
  },
  {
   "cell_type": "markdown",
   "metadata": {},
   "source": [
    "## Plot the simulation results"
   ]
  },
  {
   "cell_type": "code",
   "execution_count": 723,
   "metadata": {},
   "outputs": [],
   "source": [
    "%matplotlib inline"
   ]
  },
  {
   "cell_type": "code",
   "execution_count": 724,
   "metadata": {},
   "outputs": [
    {
     "name": "stderr",
     "output_type": "stream",
     "text": [
      "'created' timestamp seems very low; regarding as unix timestamp\n",
      "'modified' timestamp seems very low; regarding as unix timestamp\n",
      "'created' timestamp seems very low; regarding as unix timestamp\n",
      "'modified' timestamp seems very low; regarding as unix timestamp\n",
      "'created' timestamp seems very low; regarding as unix timestamp\n",
      "'modified' timestamp seems very low; regarding as unix timestamp\n"
     ]
    },
    {
     "name": "stdout",
     "output_type": "stream",
     "text": [
      "The graph of the simlation results is generated at /root/autogenuN01/generated/tank/log/tank.pdf\n"
     ]
    },
    {
     "data": {
      "image/png": "[encoded data removed]",
      "text/plain": [
       "<Figure size 1000x800 with 8 Axes>"
      ]
     },
     "metadata": {},
     "output_type": "display_data"
    }
   ],
   "source": [
    "plotter = autogenu.Plotter(log_dir=ag.get_ocp_log_dir(), log_name=ag.get_ocp_name(), player = player)\n",
    "plotter.set_scales(2,5,2)\n",
    "# plotter.show()\n",
    "plotter.save()"
   ]
  },
  {
   "cell_type": "markdown",
   "metadata": {},
   "source": [
    "\n",
    "## Build Python interface\n",
    "\n",
    "- `generator`: An optional variable for Windows user to choose the generator of CMake. If 'MSYS', then 'MSYS Makefiles' is used. If 'MinGW', then 'MinGW Makefiles' is used. The default value is 'Auto' and the generator is selected automatically. If sh.exe exists in your PATH, MSYS is choosed, and otherwise MinGW is used. \n",
    "- `vectorize` : If `True`, the vectorization, i.e., `-march=native` compile option is enabled. This can improve speed while can cause numerical issue depending on the compiler.  \n",
    "- `remove_build_dir`: If `True`, the existing build directory is removed. If `False`, the build directory is not removed. Need to be set `True` if you change the generator. Default is `False`."
   ]
  },
  {
   "cell_type": "code",
   "execution_count": null,
   "metadata": {},
   "outputs": [
    {
     "name": "stdout",
     "output_type": "stream",
     "text": [
      "pybind11 source codes are generated at /root/autogenuN01/generated/tank/python\n",
      "Update git submodules...\n",
      "Successfully updated git submodules\n",
      "\n",
      "CMake options: -DCMAKE_BUILD_TYPE=Release -DVECTORIZE=OFF -DBUILD_MAIN=OFF -DBUILD_PYTHON_INTERFACE=ON\n",
      "\u001b[0mCMake Deprecation Warning at CMakeLists.txt:5 (cmake_minimum_required):\n",
      "  Compatibility with CMake < 3.5 will be removed from a future version of\n",
      "  CMake.\n",
      "\n",
      "  Update the VERSION argument <min> value or use a ...<max> suffix to tell\n",
      "  CMake that the project does not need compatibility with older versions.\n",
      "\n",
      "\u001b[0m\n",
      "\u001b[0mCMake Deprecation Warning at /root/autogenuN01/include/cgmres/thirdparty/pybind11/CMakeLists.txt:8 (cmake_minimum_required):\n",
      "  Compatibility with CMake < 3.5 will be removed from a future version of\n",
      "  CMake.\n",
      "\n",
      "  Update the VERSION argument <min> value or use a ...<max> suffix to tell\n",
      "  CMake that the project does not need compatibility with older versions.\n",
      "\n",
      "\u001b[0m\n",
      "-- pybind11 v2.11.0 dev1\n",
      "\u001b[33mCMake Warning (dev) at /root/autogenuN01/include/cgmres/thirdparty/pybind11/tools/FindPythonLibsNew.cmake:98 (find_package):\n",
      "  Policy CMP0148 is not set: The FindPythonInterp and FindPythonLibs modules\n",
      "  are removed.  Run \"cmake --help-policy CMP0148\" for policy details.  Use\n",
      "  the cmake_policy command to set the policy and suppress this warning.\n",
      "\n",
      "Call Stack (most recent call first):\n",
      "  /root/autogenuN01/include/cgmres/thirdparty/pybind11/tools/pybind11Tools.cmake:50 (find_package)\n",
      "  /root/autogenuN01/include/cgmres/thirdparty/pybind11/tools/pybind11Common.cmake:180 (include)\n",
      "  /root/autogenuN01/include/cgmres/thirdparty/pybind11/CMakeLists.txt:200 (include)\n",
      "This warning is for project developers.  Use -Wno-dev to suppress it.\n",
      "\u001b[0m\n",
      "\u001b[0mCMake Deprecation Warning at /root/autogenuN01/include/cgmres/thirdparty/pybind11/CMakeLists.txt:8 (cmake_minimum_required):\n",
      "  Compatibility with CMake < 3.5 will be removed from a future version of\n",
      "  CMake.\n",
      "\n",
      "  Update the VERSION argument <min> value or use a ...<max> suffix to tell\n",
      "  CMake that the project does not need compatibility with older versions.\n",
      "\n",
      "\u001b[0m\n",
      "-- pybind11 v2.11.0 dev1\n",
      "-- Configuring done (0.5s)\n",
      "-- Generating done (0.0s)\n",
      "-- Build files have been written to: /root/autogenuN01/generated/tank/build\n",
      "\n",
      "\n",
      "[  7%] \u001b[32mBuilding CXX object python/common/CMakeFiles/solver_settings.dir/solver_settings.cpp.o\u001b[0m\n",
      "In file included from /root/autogenuN01/generated/tank/python/common/solver_settings.cpp:11:\n",
      "/root/autogenuN01/generated/tank/../../include/cgmres/python/solver_settings.hpp:1:50: warning: backslash-newline at end of file\n",
      "    1 | #define DEFINE_PYBIND11_MODULE_SOLVER_SETTINGS() \\\n",
      "      |\n",
      "/root/autogenuN01/generated/tank/../../include/cgmres/python/solver_settings.hpp:18:21: warning: backslash and newline separated by space\n",
      "   18 |         ss << self; \\\n",
      "      |\n",
      "[ 14%] \u001b[32m\u001b[1mLinking CXX shared library solver_settings.cpython-310-x86_64-linux-gnu.so\u001b[0m\n",
      "lto-wrapper: warning: using serial compilation of 2 LTRANS jobs\n",
      "[ 14%] Built target solver_settings\n",
      "[ 21%] \u001b[32mBuilding CXX object python/common/CMakeFiles/horizon.dir/horizon.cpp.o\u001b[0m\n",
      "In file included from /root/autogenuN01/generated/tank/python/common/horizon.cpp:12:\n",
      "/root/autogenuN01/generated/tank/../../include/cgmres/python/horizon.hpp:1:42: warning: backslash-newline at end of file\n",
      "    1 | #define DEFINE_PYBIND11_MODULE_HORIZON() \\\n",
      "      |\n",
      "/root/autogenuN01/generated/tank/../../include/cgmres/python/horizon.hpp:6:24: warning: backslash and newline separated by space\n",
      "    6 |     .def(py::init<>()) \\\n",
      "      |\n",
      "/root/autogenuN01/generated/tank/../../include/cgmres/python/horizon.hpp:15:21: warning: backslash and newline separated by space\n",
      "   15 |         ss << self; \\\n",
      "      |\n",
      "[ 28%] \u001b[32m\u001b[1mLinking CXX shared library horizon.cpython-310-x86_64-linux-gnu.so\u001b[0m\n",
      "lto-wrapper: warning: using serial compilation of 2 LTRANS jobs\n",
      "[ 28%] Built target horizon\n",
      "[ 35%] \u001b[32mBuilding CXX object python/common/CMakeFiles/timer.dir/timer.cpp.o\u001b[0m\n",
      "In file included from /root/autogenuN01/generated/tank/python/common/timer.cpp:11:\n",
      "/root/autogenuN01/generated/tank/../../include/cgmres/python/timer.hpp:1:40: warning: backslash-newline at end of file\n",
      "    1 | #define DEFINE_PYBIND11_MODULE_TIMER() \\\n",
      "      |\n",
      "/root/autogenuN01/generated/tank/../../include/cgmres/python/timer.hpp:4:24: warning: backslash and newline separated by space\n",
      "    4 |     .def(py::init<>()) \\\n",
      "      |\n",
      "/root/autogenuN01/generated/tank/../../include/cgmres/python/timer.hpp:14:21: warning: backslash and newline separated by space\n",
      "   14 |         ss << self; \\\n",
      "      |\n",
      "/root/autogenuN01/generated/tank/../../include/cgmres/python/timer.hpp:18:24: warning: backslash and newline separated by space\n",
      "   18 |     .def(py::init<>()) \\\n",
      "      |\n",
      "[ 42%] \u001b[32m\u001b[1mLinking CXX shared library timer.cpython-310-x86_64-linux-gnu.so\u001b[0m\n",
      "lto-wrapper: warning: using serial compilation of 2 LTRANS jobs\n",
      "[ 42%] Built target timer\n",
      "[ 50%] \u001b[32mBuilding CXX object python/tank/CMakeFiles/ocp.dir/ocp.cpp.o\u001b[0m\n",
      "[ 57%] \u001b[32m\u001b[1mLinking CXX shared library ocp.cpython-310-x86_64-linux-gnu.so\u001b[0m\n",
      "lto-wrapper: warning: using serial compilation of 4 LTRANS jobs\n",
      "[ 57%] Built target ocp\n",
      "[ 64%] \u001b[32mBuilding CXX object python/tank/CMakeFiles/zero_horizon_ocp_solver.dir/zero_horizon_ocp_solver.cpp.o\u001b[0m\n",
      "In file included from /root/autogenuN01/generated/tank/python/tank/zero_horizon_ocp_solver.cpp:11:\n",
      "/root/autogenuN01/generated/tank/../../include/cgmres/python/zero_horizon_ocp_solver.hpp:1:67: warning: backslash-newline at end of file\n",
      "    1 | #define DEFINE_PYBIND11_MODULE_ZERO_HORIZON_OCP_SOLVER(OCP, KMAX) \\\n",
      "      |\n",
      "/root/autogenuN01/generated/tank/../../include/cgmres/python/zero_horizon_ocp_solver.hpp:5:43: warning: backslash and newline separated by space\n",
      "    5 |     .def(py::init<OCP, SolverSettings>(), \\\n",
      "      |\n",
      "/root/autogenuN01/generated/tank/../../include/cgmres/python/zero_horizon_ocp_solver.hpp:7:24: warning: backslash and newline separated by space\n",
      "    7 |     .def(py::init<>()) \\\n",
      "      |\n",
      "/root/autogenuN01/generated/tank/../../include/cgmres/python/zero_horizon_ocp_solver.hpp:13:24: warning: backslash and newline separated by space\n",
      "   13 |         self.set_u(u); \\\n",
      "      |\n",
      "/root/autogenuN01/generated/tank/../../include/cgmres/python/zero_horizon_ocp_solver.hpp:16:26: warning: backslash and newline separated by space\n",
      "   16 |         self.set_uc(uc); \\\n",
      "      |\n",
      "/root/autogenuN01/generated/tank/../../include/cgmres/python/zero_horizon_ocp_solver.hpp:19:32: warning: backslash and newline separated by space\n",
      "   19 |         self.set_dummy(dummy); \\\n",
      "      |\n",
      "/root/autogenuN01/generated/tank/../../include/cgmres/python/zero_horizon_ocp_solver.hpp:22:26: warning: backslash and newline separated by space\n",
      "   22 |         self.set_mu(mu); \\\n",
      "      |\n",
      "/root/autogenuN01/generated/tank/../../include/cgmres/python/zero_horizon_ocp_solver.hpp:39:21: warning: backslash and newline separated by space\n",
      "   39 |         ss << self; \\\n",
      "      |\n",
      "[ 71%] \u001b[32m\u001b[1mLinking CXX shared library zero_horizon_ocp_solver.cpython-310-x86_64-linux-gnu.so\u001b[0m\n",
      "lto-wrapper: warning: using serial compilation of 4 LTRANS jobs\n",
      "[ 71%] Built target zero_horizon_ocp_solver\n",
      "[ 78%] \u001b[32mBuilding CXX object python/tank/CMakeFiles/single_shooting_cgmres_solver.dir/single_shooting_cgmres_solver.cpp.o\u001b[0m\n",
      "In file included from /root/autogenuN01/generated/tank/python/tank/single_shooting_cgmres_solver.cpp:11:\n",
      "/root/autogenuN01/generated/tank/../../include/cgmres/python/single_shooting_cgmres_solver.hpp:1:76: warning: backslash-newline at end of file\n",
      "    1 | #define DEFINE_PYBIND11_MODULE_SINGLE_SHOOTING_CGMRES_SOLVER(OCP, N, KMAX) \\\n",
      "      |\n",
      "/root/autogenuN01/generated/tank/../../include/cgmres/python/single_shooting_cgmres_solver.hpp:5:52: warning: backslash and newline separated by space\n",
      "    5 |     .def(py::init<OCP, Horizon, SolverSettings>(), \\\n",
      "      |\n",
      "/root/autogenuN01/generated/tank/../../include/cgmres/python/single_shooting_cgmres_solver.hpp:7:24: warning: backslash and newline separated by space\n",
      "    7 |     .def(py::init<>()) \\\n",
      "      |\n",
      "/root/autogenuN01/generated/tank/../../include/cgmres/python/single_shooting_cgmres_solver.hpp:13:24: warning: backslash and newline separated by space\n",
      "   13 |         self.set_u(u); \\\n",
      "      |\n",
      "/root/autogenuN01/generated/tank/../../include/cgmres/python/single_shooting_cgmres_solver.hpp:16:26: warning: backslash and newline separated by space\n",
      "   16 |         self.set_uc(uc); \\\n",
      "      |\n",
      "/root/autogenuN01/generated/tank/../../include/cgmres/python/single_shooting_cgmres_solver.hpp:19:36: warning: backslash and newline separated by space\n",
      "   19 |         self.set_u_array(u_array); \\\n",
      "      |\n",
      "/root/autogenuN01/generated/tank/../../include/cgmres/python/single_shooting_cgmres_solver.hpp:22:38: warning: backslash and newline separated by space\n",
      "   22 |         self.set_uc_array(uc_array); \\\n",
      "      |\n",
      "/root/autogenuN01/generated/tank/../../include/cgmres/python/single_shooting_cgmres_solver.hpp:25:44: warning: backslash and newline separated by space\n",
      "   25 |         self.set_dummy_array(dummy_array); \\\n",
      "      |\n",
      "/root/autogenuN01/generated/tank/../../include/cgmres/python/single_shooting_cgmres_solver.hpp:28:38: warning: backslash and newline separated by space\n",
      "   28 |         self.set_mu_array(mu_array); \\\n",
      "      |\n",
      "/root/autogenuN01/generated/tank/../../include/cgmres/python/single_shooting_cgmres_solver.hpp:44:21: warning: backslash and newline separated by space\n",
      "   44 |         ss << self; \\\n",
      "      |\n",
      "[ 85%] \u001b[32m\u001b[1mLinking CXX shared library single_shooting_cgmres_solver.cpython-310-x86_64-linux-gnu.so\u001b[0m\n",
      "lto-wrapper: warning: using serial compilation of 4 LTRANS jobs\n",
      "[ 85%] Built target single_shooting_cgmres_solver\n",
      "[ 92%] \u001b[32mBuilding CXX object python/tank/CMakeFiles/multiple_shooting_cgmres_solver.dir/multiple_shooting_cgmres_solver.cpp.o\u001b[0m\n",
      "In file included from /root/autogenuN01/generated/tank/python/tank/multiple_shooting_cgmres_solver.cpp:11:\n",
      "/root/autogenuN01/generated/tank/../../include/cgmres/python/multiple_shooting_cgmres_solver.hpp:1:78: warning: backslash-newline at end of file\n",
      "    1 | #define DEFINE_PYBIND11_MODULE_MULTIPLE_SHOOTING_CGMRES_SOLVER(OCP, N, KMAX) \\\n",
      "      |\n",
      "/root/autogenuN01/generated/tank/../../include/cgmres/python/multiple_shooting_cgmres_solver.hpp:5:52: warning: backslash and newline separated by space\n",
      "    5 |     .def(py::init<OCP, Horizon, SolverSettings>(), \\\n",
      "      |\n",
      "/root/autogenuN01/generated/tank/../../include/cgmres/python/multiple_shooting_cgmres_solver.hpp:7:24: warning: backslash and newline separated by space\n",
      "    7 |     .def(py::init<>()) \\\n",
      "      |\n",
      "/root/autogenuN01/generated/tank/../../include/cgmres/python/multiple_shooting_cgmres_solver.hpp:13:24: warning: backslash and newline separated by space\n",
      "   13 |         self.set_u(u); \\\n",
      "      |\n",
      "/root/autogenuN01/generated/tank/../../include/cgmres/python/multiple_shooting_cgmres_solver.hpp:16:26: warning: backslash and newline separated by space\n",
      "   16 |         self.set_uc(uc); \\\n",
      "      |\n",
      "/root/autogenuN01/generated/tank/../../include/cgmres/python/multiple_shooting_cgmres_solver.hpp:19:24: warning: backslash and newline separated by space\n",
      "   19 |         self.set_x(x); \\\n",
      "      |\n",
      "/root/autogenuN01/generated/tank/../../include/cgmres/python/multiple_shooting_cgmres_solver.hpp:22:28: warning: backslash and newline separated by space\n",
      "   22 |         self.set_lmd(lmd); \\\n",
      "      |\n",
      "/root/autogenuN01/generated/tank/../../include/cgmres/python/multiple_shooting_cgmres_solver.hpp:25:36: warning: backslash and newline separated by space\n",
      "   25 |         self.set_u_array(u_array); \\\n",
      "      |\n",
      "/root/autogenuN01/generated/tank/../../include/cgmres/python/multiple_shooting_cgmres_solver.hpp:28:38: warning: backslash and newline separated by space\n",
      "   28 |         self.set_uc_array(uc_array); \\\n",
      "      |\n",
      "/root/autogenuN01/generated/tank/../../include/cgmres/python/multiple_shooting_cgmres_solver.hpp:31:36: warning: backslash and newline separated by space\n",
      "   31 |         self.set_x_array(x_array); \\\n",
      "      |\n",
      "/root/autogenuN01/generated/tank/../../include/cgmres/python/multiple_shooting_cgmres_solver.hpp:34:40: warning: backslash and newline separated by space\n",
      "   34 |         self.set_lmd_array(lmd_array); \\\n",
      "      |\n",
      "/root/autogenuN01/generated/tank/../../include/cgmres/python/multiple_shooting_cgmres_solver.hpp:37:44: warning: backslash and newline separated by space\n",
      "   37 |         self.set_dummy_array(dummy_array); \\\n",
      "      |\n",
      "/root/autogenuN01/generated/tank/../../include/cgmres/python/multiple_shooting_cgmres_solver.hpp:40:38: warning: backslash and newline separated by space\n",
      "   40 |         self.set_mu_array(mu_array); \\\n",
      "      |\n",
      "In file included from /root/autogenuN01/generated/tank/python/tank/multiple_shooting_cgmres_solver.cpp:11:\n",
      "/root/autogenuN01/generated/tank/../../include/cgmres/python/multiple_shooting_cgmres_solver.hpp:68:21: warning: backslash and newline separated by space\n",
      "   68 |         ss << self; \\\n",
      "      |\n",
      "[100%] \u001b[32m\u001b[1mLinking CXX shared library multiple_shooting_cgmres_solver.cpython-310-x86_64-linux-gnu.so\u001b[0m\n",
      "lto-wrapper: warning: using serial compilation of 4 LTRANS jobs\n",
      "[100%] Built target multiple_shooting_cgmres_solver\n",
      "\n",
      "\n"
     ]
    }
   ],
   "source": [
    "# generator = 'Auto'  \n",
    "# vectorize = False\n",
    "# remove_build_dir = False\n",
    "# ag.generate_python_bindings()\n",
    "# ag.git_submodule_update()\n",
    "# ag.build_python_interface(generator=generator, vectorize=vectorize, remove_build_dir=remove_build_dir)"
   ]
  },
  {
   "cell_type": "markdown",
   "metadata": {},
   "source": [
    "## Install Python interface\n",
    "\n",
    "- `install_prefix` : Prefix of the install destination of the python interfaces. Default is None.\n",
    "    -  If this is None (default), then it is `~/.local/lib/python3.x` (`python3.x` is your Python version). \n",
    "        - If you use Ubuntu, `~/.local/lib/python3.x` is the default Python path, and you do not need to set `PYTHONPATH` additonally.  \n",
    "        - If you use MacOSX or Windows, add it to the Python PATH, as `export PYTHONPATH=$PYTHONPATH:$HOME/.local/lib/python3.x/site-packages`\n",
    "\n",
    "The usage of Python interfaces is introduced in `examples/python` directory."
   ]
  },
  {
   "cell_type": "code",
   "execution_count": null,
   "metadata": {},
   "outputs": [
    {
     "name": "stdout",
     "output_type": "stream",
     "text": [
      "Collected Python shared libs:  ['/root/autogenuN01/generated/tank/build/python/tank/zero_horizon_ocp_solver.cpython-310-x86_64-linux-gnu.so', '/root/autogenuN01/generated/tank/build/python/tank/ocp.cpython-310-x86_64-linux-gnu.so', '/root/autogenuN01/generated/tank/build/python/tank/single_shooting_cgmres_solver.cpython-310-x86_64-linux-gnu.so', '/root/autogenuN01/generated/tank/build/python/tank/multiple_shooting_cgmres_solver.cpython-310-x86_64-linux-gnu.so']\n",
      "Collected Python common shared libs:  ['/root/autogenuN01/generated/tank/build/python/common/solver_settings.cpython-310-x86_64-linux-gnu.so', '/root/autogenuN01/generated/tank/build/python/common/horizon.cpython-310-x86_64-linux-gnu.so', '/root/autogenuN01/generated/tank/build/python/common/timer.cpython-310-x86_64-linux-gnu.so']\n",
      "Collected Python files:  ['/root/autogenuN01/generated/tank/python/tank/__init__.py']\n",
      "Collected Python common files:  ['/root/autogenuN01/generated/tank/python/common/__init__.py']\n",
      "\n",
      "Python interfaces have been installed at /root/.local/lib/python3.10/site-packages\n",
      "To use Python interfaces, run \n",
      "\n",
      "    export PYTHONPATH=$PYTHONPATH:/root/.local/lib/python3.10/site-packages\n",
      "\n",
      "in the terminal to recognize the PYTHONPATH temporary.\n",
      "Or set the PATH in Ubuntu as\n",
      "\n",
      "    echo export PYTHONPATH=$PYTHONPATH:/root/.local/lib/python3.10/site-packages >> ~/.bashrc\n",
      "\n",
      "or in Mac OSX as\n",
      "\n",
      "    echo export PYTHONPATH=$PYTHONPATH:/root/.local/lib/python3.10/site-packages >> ~/.zshrc\n",
      "\n"
     ]
    }
   ],
   "source": [
    "# ag.install_python_interface(install_prefix=None)"
   ]
  },
  {
   "cell_type": "markdown",
   "metadata": {},
   "source": [
    "## Generate Documentation\n",
    "The documentations for the generated code are available.  \n",
    "`Doxygen` is required for the docs generation."
   ]
  },
  {
   "cell_type": "code",
   "execution_count": 727,
   "metadata": {},
   "outputs": [],
   "source": [
    "# autogenu.generate_docs()\n",
    "# autogenu.open_docs()"
   ]
  }
 ],
 "metadata": {
  "kernelspec": {
   "display_name": "Python 3",
   "language": "python",
   "name": "python3"
  },
  "language_info": {
   "codemirror_mode": {
    "name": "ipython",
    "version": 3
   },
   "file_extension": ".py",
   "mimetype": "text/x-python",
   "name": "python",
   "nbconvert_exporter": "python",
   "pygments_lexer": "ipython3",
   "version": "3.10.12"
  },
  "toc": {
   "base_numbering": 1,
   "nav_menu": {},
   "number_sections": true,
   "sideBar": true,
   "skip_h1_title": false,
   "title_cell": "Table of Contents",
   "title_sidebar": "Contents",
   "toc_cell": false,
   "toc_position": {},
   "toc_section_display": true,
   "toc_window_display": false
  }
 },
 "nbformat": 4,
 "nbformat_minor": 4
}
